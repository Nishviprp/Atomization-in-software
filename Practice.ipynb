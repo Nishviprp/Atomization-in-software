{
 "cells": [
  {
   "cell_type": "code",
   "execution_count": 4,
   "id": "a175f5be",
   "metadata": {},
   "outputs": [],
   "source": [
    "from selenium import webdriver\n",
    "#from webdriver_manager.chrome import ChromeDriverManager\n",
    "from selenium.webdriver.common.by import By\n",
    "from selenium.webdriver.chrome.options import Options\n",
    "from selenium.webdriver.support.select import Select\n",
    "import time\n",
    "from selenium.webdriver.support import expected_conditions as EC\n",
    "from selenium.webdriver.common.action_chains import ActionChains"
   ]
  },
  {
   "cell_type": "code",
   "execution_count": 5,
   "id": "39c6ae3f",
   "metadata": {},
   "outputs": [],
   "source": [
    "options = Options()\n",
    "options.add_experimental_option(\"detach\", True)"
   ]
  },
  {
   "cell_type": "code",
   "execution_count": 6,
   "id": "89f2a70f",
   "metadata": {},
   "outputs": [],
   "source": [
    "#new driver for every time run the code\n",
    "driver = webdriver.Chrome(options = options)\n",
    "driver.get(\"https://rahulshettyacademy.com/AutomationPractice/\")"
   ]
  },
  {
   "cell_type": "code",
   "execution_count": 7,
   "id": "7cf5ede6",
   "metadata": {},
   "outputs": [],
   "source": [
    "#click_checkbox\n",
    "driver.find_element(By.ID,\"checkBoxOption1\").click()\n",
    "driver.find_element(By.NAME,\"checkBoxOption2\").click()\n",
    "\n",
    "#radio button\n",
    "driver.find_element(By.CLASS_NAME,\"radioButton\").click()\n",
    "driver.find_element(By.CSS_SELECTOR,\"[value='radio2']\").click()\n",
    "\n",
    "#fatch by xpath\n",
    "driver.find_element(By.XPATH,\"//input[@value='radio2']\").click()\n",
    "driver.find_element(By.XPATH,\"//input[@value='radio3' and @name='radioButton']\").click()\n",
    "driver.find_element(By.XPATH,\"//legend[text()='Suggession Class Example']\").click()\n",
    "driver.find_element(By.XPATH,\"//input[starts-with(@value,'rad')]\").click()\n",
    "driver.find_element(By.XPATH,\"//input[contains(@value,'adi')]\").click() \n",
    "driver.find_element(By.XPATH,\"//div[@id='radio-btn-example']/fieldset/label[@for='radio3']\").click()\n",
    "driver.find_element(By.XPATH,\"//div[@id='radio-btn-example']//label[@for='radio3']\").click()\n",
    "driver.find_element(By.XPATH,\"(//div[@id='radio-btn-example']//input[@value])[last()]\").click()\n",
    "driver.find_element(By.XPATH,\"(//input[@value='radio3']/ancestor::div[@id]//input)[2]\").click()"
   ]
  },
  {
   "cell_type": "code",
   "execution_count": 12,
   "id": "7439334a",
   "metadata": {},
   "outputs": [],
   "source": [
    "#different finding value\n",
    "driver.find_element(By.CLASS_NAME,\"blinkingText\").click()\n",
    "#driver.find_element(By.LINK_TEXT,\"Free Access to InterviewQues/ResumeAssistance/Material\").click()\n",
    "#driver.find_element(By.PARTIAL_LINK_TEXT,\"InterviewQues/ResumeAssistance\").click()"
   ]
  },
  {
   "cell_type": "code",
   "execution_count": 11,
   "id": "7757d930",
   "metadata": {},
   "outputs": [],
   "source": [
    "#text box\n",
    "input_field = driver.find_element(By.XPATH,\"//input[@id='name']\")\n",
    "\n",
    "input_field.send_keys(\"Heya\")\n",
    "input_field.clear()\n",
    "input_field.send_keys(\"abc\")"
   ]
  },
  {
   "cell_type": "code",
   "execution_count": 14,
   "id": "3a9df4cc",
   "metadata": {},
   "outputs": [
    {
     "name": "stdout",
     "output_type": "stream",
     "text": [
      "Suggession Class Example\n"
     ]
    }
   ],
   "source": [
    "alert =  driver.find_element(By.XPATH,\"//legend[text()='Suggession Class Example']\")\n",
    "a = alert.text\n",
    "print(a)"
   ]
  },
  {
   "cell_type": "code",
   "execution_count": 15,
   "id": "b24b32aa",
   "metadata": {},
   "outputs": [
    {
     "name": "stdout",
     "output_type": "stream",
     "text": [
      "[<selenium.webdriver.remote.webelement.WebElement (session=\"1b7add06a46cf208cb5c6b3760af52a1\", element=\"f.551425599CB59E76E1B2D34446E45325.d.18BA174A3B9DBA57AC739A1C20610FA3.e.365\")>, <selenium.webdriver.remote.webelement.WebElement (session=\"1b7add06a46cf208cb5c6b3760af52a1\", element=\"f.551425599CB59E76E1B2D34446E45325.d.18BA174A3B9DBA57AC739A1C20610FA3.e.366\")>, <selenium.webdriver.remote.webelement.WebElement (session=\"1b7add06a46cf208cb5c6b3760af52a1\", element=\"f.551425599CB59E76E1B2D34446E45325.d.18BA174A3B9DBA57AC739A1C20610FA3.e.367\")>]\n",
      "3\n"
     ]
    }
   ],
   "source": [
    "#Check box_multiple click\n",
    "a = driver.find_elements(By.XPATH,\"(//input[starts-with(@name,'checkBoxOption')])[position()<3]\")\n",
    "a = driver.find_elements(By.XPATH,\"(//input[starts-with(@name,'checkBoxOption')])\")\n",
    "print(a)\n",
    "print(len(a))\n",
    "\n",
    "for b in a : \n",
    "    if a.index(b) + 1 < 3 :\n",
    "#    if a.index(b) + 1 != 2 :\n",
    "        b.click()"
   ]
  },
  {
   "cell_type": "code",
   "execution_count": 16,
   "id": "ece99338",
   "metadata": {},
   "outputs": [],
   "source": [
    "#dropdown practice\n",
    "static_dropdown = driver.find_element(By.ID,\"dropdown-class-example\")\n",
    "a = Select(static_dropdown)\n",
    "a.select_by_index(3)\n",
    "time.sleep(5)\n",
    "a.select_by_visible_text(\"Option1\")\n",
    "time.sleep(5)\n",
    "a.select_by_value(\"option3\")"
   ]
  },
  {
   "cell_type": "code",
   "execution_count": 17,
   "id": "2b762b12",
   "metadata": {
    "scrolled": true
   },
   "outputs": [
    {
     "name": "stdout",
     "output_type": "stream",
     "text": [
      "['7EFA47C090782A9614C1DC9C6132D596']\n",
      "**********\n",
      "['7EFA47C090782A9614C1DC9C6132D596', '1D1362B6172119FF62C3623BE3AADBB4']\n",
      "**********\n",
      "['7EFA47C090782A9614C1DC9C6132D596', '1D1362B6172119FF62C3623BE3AADBB4', '808F2578742E0F9991DBB8CA234175B9']\n"
     ]
    }
   ],
   "source": [
    "#find id for new tab and new window\n",
    "driver = webdriver.Chrome(options = options)\n",
    "driver.get(\"https://rahulshettyacademy.com/AutomationPractice/\")\n",
    "print(driver.window_handles)\n",
    "print(\"**********\")\n",
    "driver.find_element(By.ID, \"openwindow\").click()\n",
    "time.sleep(2)\n",
    "print(driver.window_handles)\n",
    "print(\"**********\")\n",
    "driver.find_element(By.ID, \"opentab\").click()\n",
    "time.sleep(2)\n",
    "print(driver.window_handles)"
   ]
  },
  {
   "cell_type": "code",
   "execution_count": 18,
   "id": "4aa09fa5",
   "metadata": {},
   "outputs": [],
   "source": [
    "#fatch data from iframe\n",
    "driver = webdriver.Chrome(options = options)\n",
    "driver.get(\"https://rahulshettyacademy.com/AutomationPractice/\")\n",
    "\n",
    "driver.switch_to.frame(driver.find_element(By.XPATH, \"//iframe[@id='courses-iframe']\"))\n",
    "time.sleep(3)\n",
    "driver.find_element(By.XPATH, \"//a[@href='consulting']\").click()\n",
    "\n",
    "#return to main windows\n",
    "driver.switch_to.default_content()\n",
    "driver.find_element(By.XPATH, \"//input[@id='name']\").send_keys(\"heya\")"
   ]
  },
  {
   "cell_type": "code",
   "execution_count": null,
   "id": "e47d2141-4a3d-432d-9c1d-bdeed7a44c79",
   "metadata": {},
   "outputs": [],
   "source": []
  }
 ],
 "metadata": {
  "kernelspec": {
   "display_name": "Python 3 (ipykernel)",
   "language": "python",
   "name": "python3"
  },
  "language_info": {
   "codemirror_mode": {
    "name": "ipython",
    "version": 3
   },
   "file_extension": ".py",
   "mimetype": "text/x-python",
   "name": "python",
   "nbconvert_exporter": "python",
   "pygments_lexer": "ipython3",
   "version": "3.11.7"
  }
 },
 "nbformat": 4,
 "nbformat_minor": 5
}
